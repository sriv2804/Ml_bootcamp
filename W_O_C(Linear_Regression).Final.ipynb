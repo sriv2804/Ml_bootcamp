{
 "cells": [
  {
   "cell_type": "markdown",
   "metadata": {},
   "source": [
    "## Importing the libraries"
   ]
  },
  {
   "cell_type": "code",
   "execution_count": 1,
   "metadata": {},
   "outputs": [],
   "source": [
    "import pandas as pd\n",
    "import numpy as np"
   ]
  },
  {
   "cell_type": "markdown",
   "metadata": {},
   "source": [
    "## Importing the data"
   ]
  },
  {
   "cell_type": "code",
   "execution_count": 2,
   "metadata": {},
   "outputs": [],
   "source": [
    "train_df = pd.read_csv('/Users/neeraanand/mnist_train_small.csv')"
   ]
  },
  {
   "cell_type": "code",
   "execution_count": 3,
   "metadata": {},
   "outputs": [],
   "source": [
    "test_df = pd.read_csv('/Users/neeraanand/mnist_test.csv')"
   ]
  },
  {
   "cell_type": "code",
   "execution_count": 4,
   "metadata": {},
   "outputs": [
    {
     "data": {
      "text/html": [
       "<div>\n",
       "<style scoped>\n",
       "    .dataframe tbody tr th:only-of-type {\n",
       "        vertical-align: middle;\n",
       "    }\n",
       "\n",
       "    .dataframe tbody tr th {\n",
       "        vertical-align: top;\n",
       "    }\n",
       "\n",
       "    .dataframe thead th {\n",
       "        text-align: right;\n",
       "    }\n",
       "</style>\n",
       "<table border=\"1\" class=\"dataframe\">\n",
       "  <thead>\n",
       "    <tr style=\"text-align: right;\">\n",
       "      <th></th>\n",
       "      <th>6</th>\n",
       "      <th>0</th>\n",
       "      <th>0.1</th>\n",
       "      <th>0.2</th>\n",
       "      <th>0.3</th>\n",
       "      <th>0.4</th>\n",
       "      <th>0.5</th>\n",
       "      <th>0.6</th>\n",
       "      <th>0.7</th>\n",
       "      <th>0.8</th>\n",
       "      <th>...</th>\n",
       "      <th>0.581</th>\n",
       "      <th>0.582</th>\n",
       "      <th>0.583</th>\n",
       "      <th>0.584</th>\n",
       "      <th>0.585</th>\n",
       "      <th>0.586</th>\n",
       "      <th>0.587</th>\n",
       "      <th>0.588</th>\n",
       "      <th>0.589</th>\n",
       "      <th>0.590</th>\n",
       "    </tr>\n",
       "  </thead>\n",
       "  <tbody>\n",
       "    <tr>\n",
       "      <th>0</th>\n",
       "      <td>5</td>\n",
       "      <td>0</td>\n",
       "      <td>0</td>\n",
       "      <td>0</td>\n",
       "      <td>0</td>\n",
       "      <td>0</td>\n",
       "      <td>0</td>\n",
       "      <td>0</td>\n",
       "      <td>0</td>\n",
       "      <td>0</td>\n",
       "      <td>...</td>\n",
       "      <td>0</td>\n",
       "      <td>0</td>\n",
       "      <td>0</td>\n",
       "      <td>0</td>\n",
       "      <td>0</td>\n",
       "      <td>0</td>\n",
       "      <td>0</td>\n",
       "      <td>0</td>\n",
       "      <td>0</td>\n",
       "      <td>0</td>\n",
       "    </tr>\n",
       "    <tr>\n",
       "      <th>1</th>\n",
       "      <td>7</td>\n",
       "      <td>0</td>\n",
       "      <td>0</td>\n",
       "      <td>0</td>\n",
       "      <td>0</td>\n",
       "      <td>0</td>\n",
       "      <td>0</td>\n",
       "      <td>0</td>\n",
       "      <td>0</td>\n",
       "      <td>0</td>\n",
       "      <td>...</td>\n",
       "      <td>0</td>\n",
       "      <td>0</td>\n",
       "      <td>0</td>\n",
       "      <td>0</td>\n",
       "      <td>0</td>\n",
       "      <td>0</td>\n",
       "      <td>0</td>\n",
       "      <td>0</td>\n",
       "      <td>0</td>\n",
       "      <td>0</td>\n",
       "    </tr>\n",
       "    <tr>\n",
       "      <th>2</th>\n",
       "      <td>9</td>\n",
       "      <td>0</td>\n",
       "      <td>0</td>\n",
       "      <td>0</td>\n",
       "      <td>0</td>\n",
       "      <td>0</td>\n",
       "      <td>0</td>\n",
       "      <td>0</td>\n",
       "      <td>0</td>\n",
       "      <td>0</td>\n",
       "      <td>...</td>\n",
       "      <td>0</td>\n",
       "      <td>0</td>\n",
       "      <td>0</td>\n",
       "      <td>0</td>\n",
       "      <td>0</td>\n",
       "      <td>0</td>\n",
       "      <td>0</td>\n",
       "      <td>0</td>\n",
       "      <td>0</td>\n",
       "      <td>0</td>\n",
       "    </tr>\n",
       "    <tr>\n",
       "      <th>3</th>\n",
       "      <td>5</td>\n",
       "      <td>0</td>\n",
       "      <td>0</td>\n",
       "      <td>0</td>\n",
       "      <td>0</td>\n",
       "      <td>0</td>\n",
       "      <td>0</td>\n",
       "      <td>0</td>\n",
       "      <td>0</td>\n",
       "      <td>0</td>\n",
       "      <td>...</td>\n",
       "      <td>0</td>\n",
       "      <td>0</td>\n",
       "      <td>0</td>\n",
       "      <td>0</td>\n",
       "      <td>0</td>\n",
       "      <td>0</td>\n",
       "      <td>0</td>\n",
       "      <td>0</td>\n",
       "      <td>0</td>\n",
       "      <td>0</td>\n",
       "    </tr>\n",
       "    <tr>\n",
       "      <th>4</th>\n",
       "      <td>2</td>\n",
       "      <td>0</td>\n",
       "      <td>0</td>\n",
       "      <td>0</td>\n",
       "      <td>0</td>\n",
       "      <td>0</td>\n",
       "      <td>0</td>\n",
       "      <td>0</td>\n",
       "      <td>0</td>\n",
       "      <td>0</td>\n",
       "      <td>...</td>\n",
       "      <td>0</td>\n",
       "      <td>0</td>\n",
       "      <td>0</td>\n",
       "      <td>0</td>\n",
       "      <td>0</td>\n",
       "      <td>0</td>\n",
       "      <td>0</td>\n",
       "      <td>0</td>\n",
       "      <td>0</td>\n",
       "      <td>0</td>\n",
       "    </tr>\n",
       "  </tbody>\n",
       "</table>\n",
       "<p>5 rows × 785 columns</p>\n",
       "</div>"
      ],
      "text/plain": [
       "   6  0  0.1  0.2  0.3  0.4  0.5  0.6  0.7  0.8  ...  0.581  0.582  0.583  \\\n",
       "0  5  0    0    0    0    0    0    0    0    0  ...      0      0      0   \n",
       "1  7  0    0    0    0    0    0    0    0    0  ...      0      0      0   \n",
       "2  9  0    0    0    0    0    0    0    0    0  ...      0      0      0   \n",
       "3  5  0    0    0    0    0    0    0    0    0  ...      0      0      0   \n",
       "4  2  0    0    0    0    0    0    0    0    0  ...      0      0      0   \n",
       "\n",
       "   0.584  0.585  0.586  0.587  0.588  0.589  0.590  \n",
       "0      0      0      0      0      0      0      0  \n",
       "1      0      0      0      0      0      0      0  \n",
       "2      0      0      0      0      0      0      0  \n",
       "3      0      0      0      0      0      0      0  \n",
       "4      0      0      0      0      0      0      0  \n",
       "\n",
       "[5 rows x 785 columns]"
      ]
     },
     "execution_count": 4,
     "metadata": {},
     "output_type": "execute_result"
    }
   ],
   "source": [
    "train_df.head()"
   ]
  },
  {
   "cell_type": "code",
   "execution_count": 5,
   "metadata": {},
   "outputs": [
    {
     "data": {
      "text/html": [
       "<div>\n",
       "<style scoped>\n",
       "    .dataframe tbody tr th:only-of-type {\n",
       "        vertical-align: middle;\n",
       "    }\n",
       "\n",
       "    .dataframe tbody tr th {\n",
       "        vertical-align: top;\n",
       "    }\n",
       "\n",
       "    .dataframe thead th {\n",
       "        text-align: right;\n",
       "    }\n",
       "</style>\n",
       "<table border=\"1\" class=\"dataframe\">\n",
       "  <thead>\n",
       "    <tr style=\"text-align: right;\">\n",
       "      <th></th>\n",
       "      <th>7</th>\n",
       "      <th>0</th>\n",
       "      <th>0.1</th>\n",
       "      <th>0.2</th>\n",
       "      <th>0.3</th>\n",
       "      <th>0.4</th>\n",
       "      <th>0.5</th>\n",
       "      <th>0.6</th>\n",
       "      <th>0.7</th>\n",
       "      <th>0.8</th>\n",
       "      <th>...</th>\n",
       "      <th>0.658</th>\n",
       "      <th>0.659</th>\n",
       "      <th>0.660</th>\n",
       "      <th>0.661</th>\n",
       "      <th>0.662</th>\n",
       "      <th>0.663</th>\n",
       "      <th>0.664</th>\n",
       "      <th>0.665</th>\n",
       "      <th>0.666</th>\n",
       "      <th>0.667</th>\n",
       "    </tr>\n",
       "  </thead>\n",
       "  <tbody>\n",
       "    <tr>\n",
       "      <th>0</th>\n",
       "      <td>2</td>\n",
       "      <td>0</td>\n",
       "      <td>0</td>\n",
       "      <td>0</td>\n",
       "      <td>0</td>\n",
       "      <td>0</td>\n",
       "      <td>0</td>\n",
       "      <td>0.0</td>\n",
       "      <td>0.0</td>\n",
       "      <td>0.0</td>\n",
       "      <td>...</td>\n",
       "      <td>0.0</td>\n",
       "      <td>0.0</td>\n",
       "      <td>0.0</td>\n",
       "      <td>0.0</td>\n",
       "      <td>0.0</td>\n",
       "      <td>0.0</td>\n",
       "      <td>0.0</td>\n",
       "      <td>0.0</td>\n",
       "      <td>0.0</td>\n",
       "      <td>0.0</td>\n",
       "    </tr>\n",
       "    <tr>\n",
       "      <th>1</th>\n",
       "      <td>1</td>\n",
       "      <td>0</td>\n",
       "      <td>0</td>\n",
       "      <td>0</td>\n",
       "      <td>0</td>\n",
       "      <td>0</td>\n",
       "      <td>0</td>\n",
       "      <td>0.0</td>\n",
       "      <td>0.0</td>\n",
       "      <td>0.0</td>\n",
       "      <td>...</td>\n",
       "      <td>0.0</td>\n",
       "      <td>0.0</td>\n",
       "      <td>0.0</td>\n",
       "      <td>0.0</td>\n",
       "      <td>0.0</td>\n",
       "      <td>0.0</td>\n",
       "      <td>0.0</td>\n",
       "      <td>0.0</td>\n",
       "      <td>0.0</td>\n",
       "      <td>0.0</td>\n",
       "    </tr>\n",
       "    <tr>\n",
       "      <th>2</th>\n",
       "      <td>0</td>\n",
       "      <td>0</td>\n",
       "      <td>0</td>\n",
       "      <td>0</td>\n",
       "      <td>0</td>\n",
       "      <td>0</td>\n",
       "      <td>0</td>\n",
       "      <td>0.0</td>\n",
       "      <td>0.0</td>\n",
       "      <td>0.0</td>\n",
       "      <td>...</td>\n",
       "      <td>0.0</td>\n",
       "      <td>0.0</td>\n",
       "      <td>0.0</td>\n",
       "      <td>0.0</td>\n",
       "      <td>0.0</td>\n",
       "      <td>0.0</td>\n",
       "      <td>0.0</td>\n",
       "      <td>0.0</td>\n",
       "      <td>0.0</td>\n",
       "      <td>0.0</td>\n",
       "    </tr>\n",
       "    <tr>\n",
       "      <th>3</th>\n",
       "      <td>4</td>\n",
       "      <td>0</td>\n",
       "      <td>0</td>\n",
       "      <td>0</td>\n",
       "      <td>0</td>\n",
       "      <td>0</td>\n",
       "      <td>0</td>\n",
       "      <td>0.0</td>\n",
       "      <td>0.0</td>\n",
       "      <td>0.0</td>\n",
       "      <td>...</td>\n",
       "      <td>0.0</td>\n",
       "      <td>0.0</td>\n",
       "      <td>0.0</td>\n",
       "      <td>0.0</td>\n",
       "      <td>0.0</td>\n",
       "      <td>0.0</td>\n",
       "      <td>0.0</td>\n",
       "      <td>0.0</td>\n",
       "      <td>0.0</td>\n",
       "      <td>0.0</td>\n",
       "    </tr>\n",
       "    <tr>\n",
       "      <th>4</th>\n",
       "      <td>1</td>\n",
       "      <td>0</td>\n",
       "      <td>0</td>\n",
       "      <td>0</td>\n",
       "      <td>0</td>\n",
       "      <td>0</td>\n",
       "      <td>0</td>\n",
       "      <td>0.0</td>\n",
       "      <td>0.0</td>\n",
       "      <td>0.0</td>\n",
       "      <td>...</td>\n",
       "      <td>0.0</td>\n",
       "      <td>0.0</td>\n",
       "      <td>0.0</td>\n",
       "      <td>0.0</td>\n",
       "      <td>0.0</td>\n",
       "      <td>0.0</td>\n",
       "      <td>0.0</td>\n",
       "      <td>0.0</td>\n",
       "      <td>0.0</td>\n",
       "      <td>0.0</td>\n",
       "    </tr>\n",
       "  </tbody>\n",
       "</table>\n",
       "<p>5 rows × 785 columns</p>\n",
       "</div>"
      ],
      "text/plain": [
       "   7  0  0.1  0.2  0.3  0.4  0.5  0.6  0.7  0.8  ...  0.658  0.659  0.660  \\\n",
       "0  2  0    0    0    0    0    0  0.0  0.0  0.0  ...    0.0    0.0    0.0   \n",
       "1  1  0    0    0    0    0    0  0.0  0.0  0.0  ...    0.0    0.0    0.0   \n",
       "2  0  0    0    0    0    0    0  0.0  0.0  0.0  ...    0.0    0.0    0.0   \n",
       "3  4  0    0    0    0    0    0  0.0  0.0  0.0  ...    0.0    0.0    0.0   \n",
       "4  1  0    0    0    0    0    0  0.0  0.0  0.0  ...    0.0    0.0    0.0   \n",
       "\n",
       "   0.661  0.662  0.663  0.664  0.665  0.666  0.667  \n",
       "0    0.0    0.0    0.0    0.0    0.0    0.0    0.0  \n",
       "1    0.0    0.0    0.0    0.0    0.0    0.0    0.0  \n",
       "2    0.0    0.0    0.0    0.0    0.0    0.0    0.0  \n",
       "3    0.0    0.0    0.0    0.0    0.0    0.0    0.0  \n",
       "4    0.0    0.0    0.0    0.0    0.0    0.0    0.0  \n",
       "\n",
       "[5 rows x 785 columns]"
      ]
     },
     "execution_count": 5,
     "metadata": {},
     "output_type": "execute_result"
    }
   ],
   "source": [
    "test_df.head()"
   ]
  },
  {
   "cell_type": "markdown",
   "metadata": {},
   "source": [
    "## Extracting the features"
   ]
  },
  {
   "cell_type": "code",
   "execution_count": 6,
   "metadata": {},
   "outputs": [],
   "source": [
    "x_train = train_df.drop(['6'], axis=1).values"
   ]
  },
  {
   "cell_type": "code",
   "execution_count": 7,
   "metadata": {},
   "outputs": [
    {
     "name": "stdout",
     "output_type": "stream",
     "text": [
      "[[0 0 0 ... 0 0 0]\n",
      " [0 0 0 ... 0 0 0]\n",
      " [0 0 0 ... 0 0 0]\n",
      " ...\n",
      " [0 0 0 ... 0 0 0]\n",
      " [0 0 0 ... 0 0 0]\n",
      " [0 0 0 ... 0 0 0]]\n"
     ]
    }
   ],
   "source": [
    "print(x_train)"
   ]
  },
  {
   "cell_type": "code",
   "execution_count": 8,
   "metadata": {},
   "outputs": [
    {
     "name": "stdout",
     "output_type": "stream",
     "text": [
      "(19999, 784)\n"
     ]
    }
   ],
   "source": [
    "print(x_train.shape)"
   ]
  },
  {
   "cell_type": "code",
   "execution_count": 9,
   "metadata": {},
   "outputs": [],
   "source": [
    "x_test = test_df.drop(index = 1942, columns='7').values"
   ]
  },
  {
   "cell_type": "code",
   "execution_count": 10,
   "metadata": {},
   "outputs": [
    {
     "name": "stdout",
     "output_type": "stream",
     "text": [
      "[[0. 0. 0. ... 0. 0. 0.]\n",
      " [0. 0. 0. ... 0. 0. 0.]\n",
      " [0. 0. 0. ... 0. 0. 0.]\n",
      " ...\n",
      " [0. 0. 0. ... 0. 0. 0.]\n",
      " [0. 0. 0. ... 0. 0. 0.]\n",
      " [0. 0. 0. ... 0. 0. 0.]]\n"
     ]
    }
   ],
   "source": [
    "print(x_test)"
   ]
  },
  {
   "cell_type": "markdown",
   "metadata": {},
   "source": [
    "## Visualizing the data"
   ]
  },
  {
   "cell_type": "code",
   "execution_count": 11,
   "metadata": {},
   "outputs": [],
   "source": [
    "%matplotlib inline"
   ]
  },
  {
   "cell_type": "code",
   "execution_count": 12,
   "metadata": {},
   "outputs": [],
   "source": [
    "import matplotlib\n",
    "import matplotlib.pyplot as plt"
   ]
  },
  {
   "cell_type": "code",
   "execution_count": 13,
   "metadata": {},
   "outputs": [],
   "source": [
    "any_digit = x_train[0]\n",
    "any_digit_image = any_digit.reshape(28, 28)"
   ]
  },
  {
   "cell_type": "code",
   "execution_count": 14,
   "metadata": {},
   "outputs": [
    {
     "data": {
      "text/plain": [
       "<matplotlib.image.AxesImage at 0x7ffd96a18b20>"
      ]
     },
     "execution_count": 14,
     "metadata": {},
     "output_type": "execute_result"
    },
    {
     "data": {
      "image/png": "[encoded data removed]",
      "text/plain": [
       "<Figure size 432x288 with 1 Axes>"
      ]
     },
     "metadata": {
      "needs_background": "light"
     },
     "output_type": "display_data"
    }
   ],
   "source": [
    "plt.imshow(any_digit_image, cmap = matplotlib.cm.binary, interpolation = 'nearest')"
   ]
  },
  {
   "cell_type": "markdown",
   "metadata": {},
   "source": [
    "## Extracting the labels"
   ]
  },
  {
   "cell_type": "code",
   "execution_count": 15,
   "metadata": {},
   "outputs": [],
   "source": [
    "y_train = train_df['6'].values"
   ]
  },
  {
   "cell_type": "code",
   "execution_count": 16,
   "metadata": {},
   "outputs": [
    {
     "name": "stdout",
     "output_type": "stream",
     "text": [
      "[5 7 9 ... 2 9 5]\n"
     ]
    }
   ],
   "source": [
    "print(y_train)"
   ]
  },
  {
   "cell_type": "code",
   "execution_count": 17,
   "metadata": {},
   "outputs": [
    {
     "name": "stdout",
     "output_type": "stream",
     "text": [
      "5\n"
     ]
    }
   ],
   "source": [
    "print(y_train[0])"
   ]
  },
  {
   "cell_type": "code",
   "execution_count": 18,
   "metadata": {},
   "outputs": [],
   "source": [
    "m = len(y_train) ## Number of examples of the training set"
   ]
  },
  {
   "cell_type": "code",
   "execution_count": 19,
   "metadata": {},
   "outputs": [
    {
     "name": "stdout",
     "output_type": "stream",
     "text": [
      "19999\n"
     ]
    }
   ],
   "source": [
    "print(m)"
   ]
  },
  {
   "cell_type": "code",
   "execution_count": 20,
   "metadata": {},
   "outputs": [],
   "source": [
    "y_test = test_df['7'].drop(1942).values"
   ]
  },
  {
   "cell_type": "code",
   "execution_count": 21,
   "metadata": {},
   "outputs": [],
   "source": [
    "m1 = len(y_test) ## Number of the examples of the test sets"
   ]
  },
  {
   "cell_type": "code",
   "execution_count": 22,
   "metadata": {},
   "outputs": [
    {
     "name": "stdout",
     "output_type": "stream",
     "text": [
      "1942\n"
     ]
    }
   ],
   "source": [
    "print(m1)"
   ]
  },
  {
   "cell_type": "markdown",
   "metadata": {},
   "source": [
    "## Adding bias term to train and test set"
   ]
  },
  {
   "cell_type": "code",
   "execution_count": 23,
   "metadata": {},
   "outputs": [],
   "source": [
    "x_train = np.hstack((np.ones((m, 1)), x_train))"
   ]
  },
  {
   "cell_type": "code",
   "execution_count": 24,
   "metadata": {},
   "outputs": [
    {
     "name": "stdout",
     "output_type": "stream",
     "text": [
      "[[1. 0. 0. ... 0. 0. 0.]\n",
      " [1. 0. 0. ... 0. 0. 0.]\n",
      " [1. 0. 0. ... 0. 0. 0.]\n",
      " ...\n",
      " [1. 0. 0. ... 0. 0. 0.]\n",
      " [1. 0. 0. ... 0. 0. 0.]\n",
      " [1. 0. 0. ... 0. 0. 0.]]\n"
     ]
    }
   ],
   "source": [
    "print(x_train)"
   ]
  },
  {
   "cell_type": "code",
   "execution_count": 25,
   "metadata": {},
   "outputs": [],
   "source": [
    "x_test = np.hstack((np.ones((len(x_test), 1)), x_test))"
   ]
  },
  {
   "cell_type": "code",
   "execution_count": 26,
   "metadata": {
    "scrolled": false
   },
   "outputs": [
    {
     "name": "stdout",
     "output_type": "stream",
     "text": [
      "[[1. 0. 0. ... 0. 0. 0.]\n",
      " [1. 0. 0. ... 0. 0. 0.]\n",
      " [1. 0. 0. ... 0. 0. 0.]\n",
      " ...\n",
      " [1. 0. 0. ... 0. 0. 0.]\n",
      " [1. 0. 0. ... 0. 0. 0.]\n",
      " [1. 0. 0. ... 0. 0. 0.]]\n"
     ]
    }
   ],
   "source": [
    "print(x_test)"
   ]
  },
  {
   "cell_type": "markdown",
   "metadata": {},
   "source": [
    "## Normalising the features of test and train sets"
   ]
  },
  {
   "cell_type": "code",
   "execution_count": 27,
   "metadata": {},
   "outputs": [],
   "source": [
    "x_train = x_train/255 ## As highest values is 255 and lowest is 0"
   ]
  },
  {
   "cell_type": "code",
   "execution_count": 28,
   "metadata": {},
   "outputs": [],
   "source": [
    "x_test = x_test/255"
   ]
  },
  {
   "cell_type": "markdown",
   "metadata": {},
   "source": [
    "## Defining the hypothesis and cost function"
   ]
  },
  {
   "cell_type": "code",
   "execution_count": 29,
   "metadata": {},
   "outputs": [],
   "source": [
    "def computeCost(x, y, theta):\n",
    "    \n",
    "    hypothesis = x.dot(theta) ## Calculating the hypothesis function\n",
    "    \n",
    "    errors = np.subtract(hypothesis, y)\n",
    "    \n",
    "    sqrErrors = np.square(errors)\n",
    "    \n",
    "    J = 1/(2*m)*errors.T.dot(errors) ## Calculating the cost function\n",
    "    \n",
    "    return J"
   ]
  },
  {
   "cell_type": "markdown",
   "metadata": {},
   "source": [
    "## Defining the gradient_descent function and updating theta"
   ]
  },
  {
   "cell_type": "code",
   "execution_count": 30,
   "metadata": {},
   "outputs": [],
   "source": [
    "def gradient_descent(x, y, theta, learning_rate, iterations):\n",
    "    \n",
    "    cost_hist = np.zeros(iterations)\n",
    "    \n",
    "    for i in range(iterations):\n",
    "        \n",
    "        hypothesis = x.dot(theta)\n",
    "        \n",
    "        errors = np.subtract(hypothesis, y)\n",
    "        \n",
    "        alpha = (learning_rate/m)*x.transpose().dot(errors)\n",
    "        \n",
    "        theta = theta- alpha ## Updating the parameters theta\n",
    "        \n",
    "        cost_hist[i] = computeCost(x, y, theta)\n",
    "        \n",
    "    return theta, cost_hist"
   ]
  },
  {
   "cell_type": "markdown",
   "metadata": {},
   "source": [
    "## Initialising the parameters"
   ]
  },
  {
   "cell_type": "code",
   "execution_count": 31,
   "metadata": {},
   "outputs": [],
   "source": [
    "theta = np.zeros(x_train.shape[1])\n",
    "iterations = 10000\n",
    "learning_rate= 0.0408"
   ]
  },
  {
   "cell_type": "code",
   "execution_count": 32,
   "metadata": {
    "scrolled": true
   },
   "outputs": [
    {
     "name": "stdout",
     "output_type": "stream",
     "text": [
      "The optimised values of theta are:  [ 2.62902526e-01  0.00000000e+00  0.00000000e+00  0.00000000e+00\n",
      "  0.00000000e+00  0.00000000e+00  0.00000000e+00  0.00000000e+00\n",
      "  0.00000000e+00  0.00000000e+00  0.00000000e+00  0.00000000e+00\n",
      "  0.00000000e+00 -1.34767205e-03 -2.91097163e-02 -2.91097163e-02\n",
      " -1.21290484e-03  0.00000000e+00  0.00000000e+00  0.00000000e+00\n",
      "  0.00000000e+00  0.00000000e+00  0.00000000e+00  0.00000000e+00\n",
      "  0.00000000e+00  0.00000000e+00  0.00000000e+00  0.00000000e+00\n",
      "  0.00000000e+00  0.00000000e+00  0.00000000e+00  0.00000000e+00\n",
      "  0.00000000e+00  0.00000000e+00  0.00000000e+00  6.41768544e-02\n",
      "  1.08156489e-01  1.11514546e-01  9.76902952e-02  5.95741072e-02\n",
      " -3.22371520e-02  8.09263811e-02  4.29923962e-02  1.07561618e-01\n",
      "  1.60472183e-01  1.28074815e-01  8.00627465e-02  1.24233065e-01\n",
      "  5.76313126e-02  4.88412332e-02  3.96311245e-03  0.00000000e+00\n",
      "  0.00000000e+00  0.00000000e+00  0.00000000e+00  0.00000000e+00\n",
      "  0.00000000e+00  0.00000000e+00  0.00000000e+00  0.00000000e+00\n",
      " -4.56070847e-03 -3.08652505e-03 -1.30994691e-02  8.86567031e-02\n",
      "  2.08560959e-01  3.33292486e-01  4.43372164e-01  5.49878854e-01\n",
      "  5.06704218e-01  6.13327887e-01  4.71912200e-01  3.67098426e-01\n",
      "  6.67674622e-01  6.76717719e-01  4.70364401e-01  6.17565322e-01\n",
      "  4.68261424e-01  4.01409440e-01  2.58656621e-01  2.41913589e-01\n",
      "  1.71522689e-01 -2.96086433e-02 -5.80410663e-02  0.00000000e+00\n",
      "  0.00000000e+00  0.00000000e+00  0.00000000e+00  0.00000000e+00\n",
      " -1.89837937e-02 -3.55115622e-03  2.68012753e-02  2.04125065e-01\n",
      "  2.05356532e-01  1.83623395e-01  2.16163320e-01  4.04926451e-01\n",
      "  9.63797755e-02  2.49394776e-01 -6.05023625e-02  2.79743603e-01\n",
      "  1.63097008e-01  3.01607178e-01  4.08892049e-01  2.69267948e-01\n",
      "  8.18558051e-01  6.89712541e-01  4.53544732e-01  4.39303681e-01\n",
      "  4.72395943e-01  2.67992264e-01  3.32518163e-02  7.83828553e-03\n",
      "  0.00000000e+00  0.00000000e+00  2.42957903e-03  6.25959764e-03\n",
      " -7.51060300e-03  1.08580453e-01  1.43762693e-01  1.42712980e-01\n",
      "  6.86857042e-02  7.87308876e-02  2.15034341e-01  2.20639837e-02\n",
      " -8.42189544e-02  1.07481293e-01 -1.03690064e-01  6.49278400e-02\n",
      " -3.12897616e-02 -2.17870238e-02 -4.80441853e-02  2.10261098e-02\n",
      " -9.51035541e-02 -1.53812867e-01  1.37092381e-01  1.24323826e-01\n",
      "  2.73535614e-01  3.79967346e-01  1.35864118e-01  1.03946172e-01\n",
      "  1.91309815e-02  0.00000000e+00  0.00000000e+00  3.43896348e-03\n",
      " -3.51007182e-02 -3.01561522e-02 -4.19743986e-02 -2.97952806e-01\n",
      " -9.90125281e-02  3.62213959e-01  1.70904115e-01 -5.97897142e-02\n",
      "  9.76541937e-02  2.43788826e-01 -1.43357081e-01  2.96847447e-02\n",
      " -1.66437154e-01 -1.61739641e-02 -5.26085540e-02  1.63714663e-01\n",
      " -6.72749350e-02  1.12637626e-01  1.88582007e-01  1.46532517e-01\n",
      " -1.42556289e-01  3.67934080e-01  4.77957434e-01  1.42697862e-01\n",
      "  0.00000000e+00  0.00000000e+00  0.00000000e+00  6.05151579e-03\n",
      " -8.61665299e-02 -2.86187460e-02  4.48652785e-01 -1.35321509e-01\n",
      " -6.41935113e-02 -1.45490742e-01  7.91847618e-02  5.51554400e-02\n",
      " -5.42852120e-02  1.27658193e-01  6.09997525e-03 -8.22990897e-03\n",
      "  2.05814592e-01  2.17956531e-01  4.40718860e-02  7.21125804e-03\n",
      "  1.85964908e-01 -5.52801017e-02 -1.20622994e-01  3.37791681e-02\n",
      "  1.25055186e-01  3.15944018e-01  3.49540900e-01  1.54716990e-02\n",
      "  8.30064077e-03 -3.69610478e-03 -4.14723318e-02  8.88988774e-02\n",
      " -1.02901687e-01 -3.80056849e-01  6.68931684e-02 -1.88584629e-02\n",
      "  1.29727145e-01  4.59846529e-02 -6.16829325e-02  1.64824207e-01\n",
      " -4.87796588e-02  1.57829116e-01  1.55113115e-01 -7.07965816e-02\n",
      "  1.58861814e-01  8.32994530e-02 -1.72460939e-02 -1.41735238e-01\n",
      " -3.00560547e-02 -2.40044485e-02  7.93849448e-02 -3.28029216e-01\n",
      "  2.88766506e-02  3.23640794e-01 -8.36961109e-02  2.21220306e-01\n",
      "  5.87597214e-03 -1.50203407e-02 -1.14656246e-01  1.44790045e-01\n",
      "  6.58082369e-02  6.25959010e-02  8.55495538e-03 -4.02274483e-01\n",
      "  1.98309999e-01  1.34987866e-01 -1.52223121e-02  1.67139146e-01\n",
      " -1.69296379e-01  3.72590838e-02  1.12520944e-01  2.78869340e-02\n",
      " -1.38453479e-02  6.56484147e-02 -1.14699894e-01 -9.89968879e-03\n",
      " -1.23933253e-01 -2.00872314e-01  8.25833594e-02 -9.48754756e-02\n",
      "  3.16550424e-01  8.18963988e-01  5.61315543e-01  1.59177098e-01\n",
      " -2.94377176e-02  1.90167052e-03 -8.26302123e-03  2.64825914e-01\n",
      "  1.83343819e-01  5.04908659e-02  1.15576080e-01  3.32919739e-02\n",
      " -5.12246591e-02  2.23570428e-01  1.94070323e-01  8.72824450e-02\n",
      "  3.99430243e-01  1.50565973e-01 -1.52694368e-01  4.15758431e-02\n",
      " -1.14044329e-02 -1.12694548e-01 -2.74126644e-02 -2.67917565e-02\n",
      " -2.58970913e-02  5.23797995e-02 -4.45365127e-02  1.02018924e-01\n",
      " -3.15869752e-01  3.93366427e-01  4.00604524e-01  2.18225779e-01\n",
      "  3.24175559e-02  1.06459856e-02  9.00194683e-02  3.67003963e-01\n",
      " -1.26934615e-01 -1.60650806e-02  1.29216871e-02  2.66376806e-01\n",
      " -6.05521699e-02  7.13860958e-02  1.92051447e-04  2.27244938e-01\n",
      "  1.15677444e-01  1.28057424e-01  7.89289836e-03 -3.72318691e-01\n",
      " -2.14322106e-01  5.23630417e-02 -1.20779346e-01 -2.04821179e-02\n",
      "  5.56430662e-02 -6.94612896e-02  7.56753857e-02 -1.42846534e-01\n",
      " -3.40869639e-03  2.20574960e-01  5.79060026e-01  3.31729471e-01\n",
      "  1.40074728e-02  3.12404141e-02  1.14481604e-01  1.63861123e-01\n",
      " -7.27364302e-02 -1.38833529e-01  2.27043875e-01  5.29927511e-02\n",
      "  1.05326588e-01  1.78823021e-01  2.54023613e-01  1.81298234e-01\n",
      "  2.25178443e-01  4.56452927e-01  3.22696132e-01 -6.32911830e-02\n",
      " -1.29280628e-01 -1.02281593e-02  1.88518529e-01  6.29643689e-02\n",
      " -1.02260419e-01  5.61578362e-03 -1.73084932e-01  1.68053224e-01\n",
      " -3.22421836e-02  7.27491219e-02  4.15495362e-01  2.74682534e-02\n",
      "  5.35054266e-03  0.00000000e+00  1.00957082e-01 -1.70826387e-03\n",
      "  1.41187586e-01 -1.93816134e-02  3.59736624e-01  2.31906526e-01\n",
      "  2.74278981e-01 -1.26980468e-01  2.72731344e-01 -9.23759013e-03\n",
      "  2.72291562e-01  2.11728448e-01  9.83035353e-02  1.50925583e-01\n",
      " -2.88015038e-02  2.65823625e-01  2.93003117e-01 -9.96245527e-03\n",
      "  1.46406779e-01 -1.71164105e-01  1.15430193e-01  1.05158520e-01\n",
      " -9.52654871e-02 -1.78230486e-01 -4.83602238e-02 -1.20093466e-01\n",
      "  1.99035395e-02  0.00000000e+00  2.33936520e-02 -9.89482629e-04\n",
      "  2.71871853e-01  2.22392066e-01  1.92439299e-01  1.43313793e-01\n",
      "  9.00019147e-02  1.28410599e-01  1.25584706e-01  6.18281799e-03\n",
      " -2.20687765e-02  4.45606793e-01 -6.52614569e-02  6.83540300e-02\n",
      "  2.27294136e-01  1.55669692e-01  3.92557584e-01  1.03679275e-01\n",
      "  3.27757384e-01  2.75467266e-01  8.89157392e-02 -1.02704066e-01\n",
      " -2.32049349e-01  1.95894506e-01 -1.43886132e-01 -2.20887707e-01\n",
      " -6.81575936e-06  0.00000000e+00  5.67116340e-03  4.37428533e-02\n",
      "  2.41389265e-01  1.76149304e-01 -6.21486685e-02  2.96283060e-02\n",
      " -1.36112724e-01 -7.26266500e-02 -1.19441075e-01 -2.06289355e-01\n",
      "  2.76316293e-01  3.68159792e-01 -2.14163219e-01  5.05522122e-01\n",
      " -4.65469022e-02  2.15748731e-01  3.05623131e-01 -7.60044694e-02\n",
      " -1.48586665e-01 -1.71171444e-01 -2.27978109e-01  7.74702363e-02\n",
      " -1.54125053e-01  1.94022233e-02 -5.25785338e-02 -1.39437437e-01\n",
      "  0.00000000e+00  0.00000000e+00  0.00000000e+00 -4.34289706e-02\n",
      "  4.15225076e-01  2.81020019e-02 -9.28795590e-02  8.40664139e-03\n",
      " -2.18548700e-01 -7.12728015e-02 -6.74540090e-02  1.46407461e-02\n",
      "  8.49529646e-02  1.23469773e-01 -1.82455611e-01  2.60957038e-01\n",
      " -1.52214865e-01  4.65186672e-01  8.81152776e-02  1.94030086e-01\n",
      "  5.04782923e-02  1.85665499e-02  1.31287408e-01  2.53849071e-02\n",
      " -1.37643154e-01  2.18926138e-01  1.16147355e-01 -1.77576507e-01\n",
      " -2.63924016e-03  0.00000000e+00 -1.29267275e-03 -1.37096512e-02\n",
      "  4.97640544e-01  1.71373051e-01 -2.08683132e-01 -9.08931087e-02\n",
      "  1.10046799e-01 -9.01423987e-02 -2.29177564e-02 -5.86352214e-02\n",
      "  3.16462010e-01  1.22575479e-01  8.00156647e-02  3.41927443e-02\n",
      "  1.41748706e-01  3.20864320e-01  6.50132759e-02 -2.77845112e-01\n",
      " -6.60885831e-02 -2.18960770e-01 -2.15161717e-01 -2.17465891e-02\n",
      "  2.38832973e-02 -1.62037355e-01 -2.57127305e-01 -1.21851638e-01\n",
      " -9.21813605e-03  0.00000000e+00 -1.14260697e-02  5.03251003e-02\n",
      "  1.91685449e-01  2.98288273e-02  9.41516121e-02 -1.26771701e-01\n",
      " -2.48212123e-01  1.34495903e-02  1.40695234e-01  3.57501901e-02\n",
      "  3.81101741e-01  4.49332026e-02 -5.98898930e-02  1.88734145e-01\n",
      "  1.99904341e-01  1.59518350e-01 -6.84421675e-02 -3.79065293e-02\n",
      " -1.45282929e-01  1.57764196e-01 -9.13703512e-02 -1.14044057e-01\n",
      "  1.62306261e-01  2.71513105e-02 -1.34682345e-01 -9.02849325e-02\n",
      " -1.91327798e-02  1.88042849e-02  7.22568850e-05  8.53686800e-02\n",
      " -4.92080516e-03  2.57703988e-02 -9.97416921e-02 -1.22669292e-02\n",
      " -1.79107175e-02 -1.02740217e-01 -1.75553846e-02  2.44896135e-01\n",
      "  1.30989704e-01  1.34213677e-01 -1.34118280e-01  1.78078391e-01\n",
      " -1.94644583e-01  6.49320967e-02 -1.72434685e-01  1.17741801e-01\n",
      " -1.24845743e-01  6.48457520e-02 -1.22265473e-02 -2.67810051e-02\n",
      " -9.59292610e-02 -3.44877431e-01 -3.95559898e-04 -4.85857090e-03\n",
      "  2.58964716e-02  0.00000000e+00  1.34479709e-02  2.12474667e-01\n",
      " -5.60993495e-02 -4.59832019e-02 -1.64101842e-01  7.90810228e-02\n",
      " -1.02656970e-01  1.08068895e-01 -9.06843457e-02  5.17126136e-02\n",
      " -2.55170356e-02  1.14734361e-01 -3.68071409e-01 -1.31363328e-03\n",
      " -7.72867534e-02  1.60167885e-01  2.45167494e-02 -9.15983350e-02\n",
      " -1.23400368e-01 -1.88157837e-01 -9.05120818e-02 -1.95925088e-01\n",
      "  6.90574581e-02 -8.69636582e-02 -2.40415060e-01 -8.56542792e-02\n",
      "  9.59526482e-03  0.00000000e+00 -3.02545944e-03  1.57841049e-01\n",
      "  4.54785620e-02 -3.29284063e-02  1.12735654e-01 -9.13281299e-02\n",
      " -1.59620612e-01 -4.29674072e-02 -1.67546724e-01 -4.50006683e-02\n",
      "  1.89892016e-02 -1.18120571e-02  6.60215744e-02 -9.69542182e-03\n",
      "  7.16619302e-02 -5.98738203e-02 -1.51061075e-01 -4.50342658e-02\n",
      "  4.59277703e-02 -1.67255472e-01 -1.76819329e-01  1.03148270e-01\n",
      " -6.95859212e-02 -3.16425419e-01 -2.91910687e-01 -1.00636947e-01\n",
      "  0.00000000e+00  0.00000000e+00 -6.67947909e-03 -1.83177201e-04\n",
      " -2.58237067e-01 -4.42428529e-02 -7.46968163e-02 -2.85507366e-02\n",
      "  7.25672890e-02  4.03367199e-02 -7.85107771e-02 -1.41010416e-01\n",
      " -7.78769520e-02  9.10084187e-02 -8.14150579e-02 -5.15089585e-03\n",
      " -1.99732933e-01  1.61733015e-02  2.65372123e-02 -2.92929845e-02\n",
      "  2.51166728e-02 -5.26989469e-02 -2.13245916e-01  1.83934916e-01\n",
      "  7.03437306e-03 -3.20174888e-01 -2.89809216e-01 -9.85348724e-02\n",
      "  0.00000000e+00  0.00000000e+00 -2.28440817e-04  1.58690997e-02\n",
      " -8.65433016e-02 -1.14898502e-02 -1.62874287e-02 -2.14537612e-02\n",
      " -1.46127849e-01 -5.46074824e-02 -1.45891670e-01  1.12391784e-01\n",
      "  7.14114444e-02  8.53543953e-02  2.06208448e-02  8.08451823e-02\n",
      " -5.26163498e-02  1.13509148e-01 -8.80531434e-02 -8.16382319e-02\n",
      " -1.61865958e-02 -2.09665910e-01 -1.61793885e-01 -2.22385249e-01\n",
      " -1.78052985e-01 -3.28259646e-02 -1.05244496e-01 -7.69883310e-02\n",
      "  0.00000000e+00  0.00000000e+00  0.00000000e+00  2.88716281e-04\n",
      " -3.41266921e-02 -4.93274081e-02 -9.04210987e-02 -2.09452605e-03\n",
      " -2.31619645e-01  1.08911017e-01  1.08487136e-02 -1.68000383e-01\n",
      "  7.87312440e-02  2.59610054e-02  2.71580179e-01  3.30969841e-02\n",
      " -1.04763524e-02 -1.57268091e-01  1.64941320e-01 -7.36998020e-02\n",
      "  4.77910070e-02  2.24727060e-01 -9.48142187e-02  1.41893857e-01\n",
      "  1.56167446e-01 -1.91039846e-02 -4.47805265e-02 -2.22560334e-02\n",
      "  0.00000000e+00  0.00000000e+00  0.00000000e+00  4.82177451e-02\n",
      "  1.30262534e-02  2.04317399e-01  1.55864355e-01 -1.52144995e-01\n",
      "  1.01423771e-01 -1.94419461e-04 -2.75943227e-02  1.50329007e-01\n",
      " -4.84248641e-02  7.87279358e-02 -1.21630912e-01  2.42608480e-02\n",
      "  1.90880412e-01  9.02025934e-02  3.91693457e-03  1.94255488e-01\n",
      "  1.83437873e-01  4.68631248e-01  6.04954935e-01  5.84015261e-01\n",
      "  7.34699729e-01  2.69975839e-01 -1.06022242e-01 -3.81623995e-03\n",
      "  0.00000000e+00  0.00000000e+00  0.00000000e+00  9.68160295e-03\n",
      "  2.49414464e-02  1.42689524e-01  8.59825718e-01  7.49346155e-01\n",
      "  1.00914327e+00  5.66499775e-01  4.84726661e-01  6.20177173e-01\n",
      "  4.05754249e-01  5.76663663e-01  5.95840962e-01  3.64886463e-01\n",
      "  4.66666548e-01  8.75559963e-01  8.87595167e-01  1.14470995e+00\n",
      "  6.45622787e-01  9.77708581e-01  1.31548854e+00  5.60076082e-01\n",
      "  3.95143267e-01  1.64283791e-01  0.00000000e+00  0.00000000e+00\n",
      "  0.00000000e+00  0.00000000e+00  0.00000000e+00  0.00000000e+00\n",
      "  1.22769583e-02  1.43611102e-01  3.14818967e-01  3.44221875e-01\n",
      "  3.93115526e-01  4.24344861e-01  7.86168828e-01  5.56033364e-01\n",
      "  5.72545210e-01  5.03719996e-01  7.61530782e-01  8.29283053e-01\n",
      "  8.33332649e-01  4.96928955e-01  6.15960217e-01  5.98290959e-01\n",
      "  1.99806374e-01  1.63657295e-01  4.17996000e-01  2.85631989e-01\n",
      "  6.76649313e-02  7.56487049e-03  0.00000000e+00  0.00000000e+00\n",
      "  0.00000000e+00  0.00000000e+00  0.00000000e+00  0.00000000e+00\n",
      "  0.00000000e+00  1.52931077e-03  3.77835029e-02  4.39851545e-02\n",
      "  2.19321686e-02 -9.85560391e-03  6.51018824e-02  2.47975144e-01\n",
      "  2.43296019e-01  2.84070765e-01  4.00520303e-02  2.84061285e-01\n",
      "  3.80991175e-01  1.45016301e-01  1.42850589e-01  9.40121699e-02\n",
      "  7.12812799e-03  7.82530509e-02  7.71227847e-02  2.24899459e-01\n",
      "  4.15850857e-02  0.00000000e+00  0.00000000e+00  0.00000000e+00\n",
      "  0.00000000e+00]\n"
     ]
    }
   ],
   "source": [
    "theta, cost_hist = gradient_descent(x_train, y_train, theta, learning_rate, iterations)\n",
    "print(\"The optimised values of theta are: \", theta)"
   ]
  },
  {
   "cell_type": "markdown",
   "metadata": {},
   "source": [
    "## Calculating the mean squared error"
   ]
  },
  {
   "cell_type": "code",
   "execution_count": 33,
   "metadata": {
    "scrolled": true
   },
   "outputs": [
    {
     "name": "stdout",
     "output_type": "stream",
     "text": [
      "1.825812836101735\n"
     ]
    }
   ],
   "source": [
    "Loss = computeCost(x_train, y_train, theta)\n",
    "print(Loss)"
   ]
  },
  {
   "cell_type": "markdown",
   "metadata": {},
   "source": [
    "## Displaying the predicted values for the train set"
   ]
  },
  {
   "cell_type": "code",
   "execution_count": 34,
   "metadata": {
    "scrolled": true
   },
   "outputs": [
    {
     "data": {
      "text/html": [
       "<div>\n",
       "<style scoped>\n",
       "    .dataframe tbody tr th:only-of-type {\n",
       "        vertical-align: middle;\n",
       "    }\n",
       "\n",
       "    .dataframe tbody tr th {\n",
       "        vertical-align: top;\n",
       "    }\n",
       "\n",
       "    .dataframe thead th {\n",
       "        text-align: right;\n",
       "    }\n",
       "</style>\n",
       "<table border=\"1\" class=\"dataframe\">\n",
       "  <thead>\n",
       "    <tr style=\"text-align: right;\">\n",
       "      <th></th>\n",
       "      <th>predicted_target</th>\n",
       "      <th>Original_target</th>\n",
       "    </tr>\n",
       "  </thead>\n",
       "  <tbody>\n",
       "    <tr>\n",
       "      <th>0</th>\n",
       "      <td>5.0</td>\n",
       "      <td>5</td>\n",
       "    </tr>\n",
       "    <tr>\n",
       "      <th>1</th>\n",
       "      <td>2.0</td>\n",
       "      <td>7</td>\n",
       "    </tr>\n",
       "    <tr>\n",
       "      <th>2</th>\n",
       "      <td>8.0</td>\n",
       "      <td>9</td>\n",
       "    </tr>\n",
       "    <tr>\n",
       "      <th>3</th>\n",
       "      <td>4.0</td>\n",
       "      <td>5</td>\n",
       "    </tr>\n",
       "    <tr>\n",
       "      <th>4</th>\n",
       "      <td>3.0</td>\n",
       "      <td>2</td>\n",
       "    </tr>\n",
       "    <tr>\n",
       "      <th>5</th>\n",
       "      <td>1.0</td>\n",
       "      <td>0</td>\n",
       "    </tr>\n",
       "    <tr>\n",
       "      <th>6</th>\n",
       "      <td>4.0</td>\n",
       "      <td>6</td>\n",
       "    </tr>\n",
       "    <tr>\n",
       "      <th>7</th>\n",
       "      <td>6.0</td>\n",
       "      <td>5</td>\n",
       "    </tr>\n",
       "    <tr>\n",
       "      <th>8</th>\n",
       "      <td>6.0</td>\n",
       "      <td>5</td>\n",
       "    </tr>\n",
       "    <tr>\n",
       "      <th>9</th>\n",
       "      <td>7.0</td>\n",
       "      <td>2</td>\n",
       "    </tr>\n",
       "  </tbody>\n",
       "</table>\n",
       "</div>"
      ],
      "text/plain": [
       "   predicted_target  Original_target\n",
       "0               5.0                5\n",
       "1               2.0                7\n",
       "2               8.0                9\n",
       "3               4.0                5\n",
       "4               3.0                2\n",
       "5               1.0                0\n",
       "6               4.0                6\n",
       "7               6.0                5\n",
       "8               6.0                5\n",
       "9               7.0                2"
      ]
     },
     "execution_count": 34,
     "metadata": {},
     "output_type": "execute_result"
    }
   ],
   "source": [
    "hypothesis =  np.round(x_train.dot(theta)) ## Using the train set\n",
    "\n",
    "y_orig = y_train\n",
    "\n",
    "df = pd.DataFrame(columns = ['predicted_target', 'Original_target'])\n",
    "\n",
    "df['predicted_target'] = hypothesis\n",
    "\n",
    "df['Original_target'] = y_orig\n",
    "\n",
    "df.head(10)"
   ]
  },
  {
   "cell_type": "code",
   "execution_count": 35,
   "metadata": {
    "scrolled": true
   },
   "outputs": [
    {
     "name": "stdout",
     "output_type": "stream",
     "text": [
      "Accuracy : 0.24826241312065603\n"
     ]
    }
   ],
   "source": [
    "from sklearn.metrics import accuracy_score\n",
    "print(\"Accuracy :\", accuracy_score(y_orig, hypothesis)) ## For the train set"
   ]
  },
  {
   "cell_type": "markdown",
   "metadata": {},
   "source": [
    "## Displaying the predicted values for the test set"
   ]
  },
  {
   "cell_type": "code",
   "execution_count": 36,
   "metadata": {},
   "outputs": [
    {
     "data": {
      "text/html": [
       "<div>\n",
       "<style scoped>\n",
       "    .dataframe tbody tr th:only-of-type {\n",
       "        vertical-align: middle;\n",
       "    }\n",
       "\n",
       "    .dataframe tbody tr th {\n",
       "        vertical-align: top;\n",
       "    }\n",
       "\n",
       "    .dataframe thead th {\n",
       "        text-align: right;\n",
       "    }\n",
       "</style>\n",
       "<table border=\"1\" class=\"dataframe\">\n",
       "  <thead>\n",
       "    <tr style=\"text-align: right;\">\n",
       "      <th></th>\n",
       "      <th>Predicted_target</th>\n",
       "      <th>Original_target</th>\n",
       "    </tr>\n",
       "  </thead>\n",
       "  <tbody>\n",
       "    <tr>\n",
       "      <th>0</th>\n",
       "      <td>2.0</td>\n",
       "      <td>2</td>\n",
       "    </tr>\n",
       "    <tr>\n",
       "      <th>1</th>\n",
       "      <td>1.0</td>\n",
       "      <td>1</td>\n",
       "    </tr>\n",
       "    <tr>\n",
       "      <th>2</th>\n",
       "      <td>1.0</td>\n",
       "      <td>0</td>\n",
       "    </tr>\n",
       "    <tr>\n",
       "      <th>3</th>\n",
       "      <td>3.0</td>\n",
       "      <td>4</td>\n",
       "    </tr>\n",
       "    <tr>\n",
       "      <th>4</th>\n",
       "      <td>1.0</td>\n",
       "      <td>1</td>\n",
       "    </tr>\n",
       "  </tbody>\n",
       "</table>\n",
       "</div>"
      ],
      "text/plain": [
       "   Predicted_target  Original_target\n",
       "0               2.0                2\n",
       "1               1.0                1\n",
       "2               1.0                0\n",
       "3               3.0                4\n",
       "4               1.0                1"
      ]
     },
     "execution_count": 36,
     "metadata": {},
     "output_type": "execute_result"
    }
   ],
   "source": [
    "hypothesis = np.round(x_test.dot(theta))\n",
    "\n",
    "y_orig = y_test\n",
    "\n",
    "df = pd.DataFrame(columns = ['Predicted_target', 'Original_target'])\n",
    "df['Predicted_target'] = hypothesis\n",
    "df['Original_target'] = y_test\n",
    "df.head()"
   ]
  },
  {
   "cell_type": "code",
   "execution_count": 37,
   "metadata": {},
   "outputs": [
    {
     "name": "stdout",
     "output_type": "stream",
     "text": [
      "Accuracy : 0.2420185375901133\n"
     ]
    }
   ],
   "source": [
    "from sklearn.metrics import accuracy_score\n",
    "print(\"Accuracy :\", accuracy_score(y_orig, hypothesis)) ## For the test set"
   ]
  },
  {
   "cell_type": "code",
   "execution_count": 38,
   "metadata": {},
   "outputs": [
    {
     "data": {
      "text/plain": [
       "Text(0.5, 1.0, 'Convergence of gradient descent')"
      ]
     },
     "execution_count": 38,
     "metadata": {},
     "output_type": "execute_result"
    },
    {
     "data": {
      "image/png": "[encoded data removed]",
      "text/plain": [
       "<Figure size 432x288 with 1 Axes>"
      ]
     },
     "metadata": {
      "needs_background": "light"
     },
     "output_type": "display_data"
    }
   ],
   "source": [
    "import matplotlib.pyplot as plt\n",
    "plt.plot(range(1, iterations+1), cost_hist, color='red')\n",
    "plt.grid()\n",
    "plt.xlabel(\"Number of iterations\")\n",
    "plt.ylabel(\"cost(J)\")\n",
    "plt.title(\"Convergence of gradient descent\")"
   ]
  },
  {
   "cell_type": "code",
   "execution_count": null,
   "metadata": {},
   "outputs": [],
   "source": []
  }
 ],
 "metadata": {
  "kernelspec": {
   "display_name": "Python 3",
   "language": "python",
   "name": "python3"
  },
  "language_info": {
   "codemirror_mode": {
    "name": "ipython",
    "version": 3
   },
   "file_extension": ".py",
   "mimetype": "text/x-python",
   "name": "python",
   "nbconvert_exporter": "python",
   "pygments_lexer": "ipython3",
   "version": "3.8.5"
  }
 },
 "nbformat": 4,
 "nbformat_minor": 4
}
